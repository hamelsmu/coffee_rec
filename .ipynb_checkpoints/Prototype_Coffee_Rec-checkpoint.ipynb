{
 "cells": [
  {
   "cell_type": "markdown",
   "metadata": {},
   "source": [
    "# Coffee Trading Rec System / Exercise\n",
    "\n",
    "Hamel Husain\n",
    "\n",
    "hamel.husain@gmail.com"
   ]
  },
  {
   "cell_type": "markdown",
   "metadata": {},
   "source": [
    "I did not have time to fully implement these functions in the exact way that were specified in the challenge.  I skipped the following items in the interest of time:\n",
    "\n",
    "1)  I did not use the framework and the class you provided\n",
    "\n",
    "2)  I did not implement these functions as command line tools\n",
    "\n",
    "3)  I made a recommendation system, but I did not predict a rating.  I made a top -K recommendation system based upon item-item collaborative filtering.   To make predictions of the ratings I would have calculated the weighted average of item-ratings that the user has rated that are similar to the product we want to predict.   "
   ]
  },
  {
   "cell_type": "markdown",
   "metadata": {},
   "source": [
    "### Import Stuff"
   ]
  },
  {
   "cell_type": "code",
   "execution_count": 15,
   "metadata": {
    "collapsed": false
   },
   "outputs": [],
   "source": [
    "import pandas as pd\n",
    "import numpy as np\n",
    "import re\n",
    "from sklearn.metrics.pairwise import cosine_similarity\n",
    "#The handy dictionary you provided!\n",
    "COUNTRIES = {\n",
    "    \"Balinese\": \"Bali\",\n",
    "    \"Bolivian\": \"Bolivia\",\n",
    "    \"Brazilian\": \"Brazil\",\n",
    "    \"Costa Rican\": \"Costa Rican\",\n",
    "    \"Dominican\": \"Dominican Republic\",\n",
    "    \"Salvadorean\": \"El Salvador\",\n",
    "    \"Ethiopian\": \"Ethiopia\",\n",
    "    \"Guatemalan\": \"Guatemala\",\n",
    "    \"Indian\": \"India\",\n",
    "    \"Kenyan\": \"Kenya\",\n",
    "    \"Malian\": \"Mali\",\n",
    "    \"Mexican\": \"Mexico\",\n",
    "    \"Panamanian\": \"Panama\",\n",
    "    \"Peruvian\": \"Peru\",\n",
    "    \"Sumatran\": \"Sumatra\",\n",
    "}"
   ]
  },
  {
   "cell_type": "markdown",
   "metadata": {},
   "source": [
    "### Put Headers On The File"
   ]
  },
  {
   "cell_type": "code",
   "execution_count": 16,
   "metadata": {
    "collapsed": false
   },
   "outputs": [],
   "source": [
    "!echo 'ID\\tName\\tRating' > header.txt\n",
    "!cat header.txt coffee_ratings.txt > new_ratings.txt"
   ]
  },
  {
   "cell_type": "markdown",
   "metadata": {},
   "source": [
    "### Read in the file"
   ]
  },
  {
   "cell_type": "code",
   "execution_count": 17,
   "metadata": {
    "collapsed": false
   },
   "outputs": [
    {
     "data": {
      "text/html": [
       "<div>\n",
       "<table border=\"1\" class=\"dataframe\">\n",
       "  <thead>\n",
       "    <tr style=\"text-align: right;\">\n",
       "      <th></th>\n",
       "      <th>Name</th>\n",
       "      <th>Rating</th>\n",
       "    </tr>\n",
       "    <tr>\n",
       "      <th>ID</th>\n",
       "      <th></th>\n",
       "      <th></th>\n",
       "    </tr>\n",
       "  </thead>\n",
       "  <tbody>\n",
       "    <tr>\n",
       "      <th>191</th>\n",
       "      <td>Decaf Cuzcachapa Kenyan</td>\n",
       "      <td>4</td>\n",
       "    </tr>\n",
       "    <tr>\n",
       "      <th>16</th>\n",
       "      <td>Organic Fair Trade Decaf Paradise Valley Kenyan</td>\n",
       "      <td>3</td>\n",
       "    </tr>\n",
       "    <tr>\n",
       "      <th>163</th>\n",
       "      <td>Fair Trade Decaf Honey Burst Brazilian</td>\n",
       "      <td>3</td>\n",
       "    </tr>\n",
       "    <tr>\n",
       "      <th>118</th>\n",
       "      <td>Organic Fair Trade Decaf Supremo Indian</td>\n",
       "      <td>5</td>\n",
       "    </tr>\n",
       "    <tr>\n",
       "      <th>149</th>\n",
       "      <td>Decaf Swiss Water Guatemalan</td>\n",
       "      <td>3</td>\n",
       "    </tr>\n",
       "  </tbody>\n",
       "</table>\n",
       "</div>"
      ],
      "text/plain": [
       "                                                Name  Rating\n",
       "ID                                                          \n",
       "191                          Decaf Cuzcachapa Kenyan       4\n",
       "16   Organic Fair Trade Decaf Paradise Valley Kenyan       3\n",
       "163           Fair Trade Decaf Honey Burst Brazilian       3\n",
       "118          Organic Fair Trade Decaf Supremo Indian       5\n",
       "149                     Decaf Swiss Water Guatemalan       3"
      ]
     },
     "execution_count": 17,
     "metadata": {},
     "output_type": "execute_result"
    }
   ],
   "source": [
    "df = pd.read_csv('new_ratings.txt', sep = '\\t', index_col=0)\n",
    "df.head()"
   ]
  },
  {
   "cell_type": "markdown",
   "metadata": {},
   "source": [
    "### Define Parse Function"
   ]
  },
  {
   "cell_type": "code",
   "execution_count": 18,
   "metadata": {
    "collapsed": true
   },
   "outputs": [],
   "source": [
    "def parse(name):\n",
    "    \"\"\"Parse Function\"\"\"\n",
    "    #Look for key words and assign to variables\n",
    "    Decaf, Organic, Fair_trade =  'decaf' in name.lower(), 'organic' in name.lower(), 'fair trade' in name.lower()\n",
    "    #Look for countries from the country dict provided\n",
    "    Country = ''.join([COUNTRIES[x] for x in COUNTRIES.keys() if x in name])\n",
    "    #Get the keys that match\n",
    "    country_keys = '|'.join([x for x in COUNTRIES.keys() if x in name])\n",
    "    #Strip the original name of all the things that we found for the adjective piece\n",
    "    re_text = 'decaf|organic|fair trade|'+ country_keys.lower()\n",
    "    Adjective = re.sub(re_text, '', name.lower()).strip()\n",
    "    \n",
    "    return Decaf, Organic, Fair_trade, Adjective, Country"
   ]
  },
  {
   "cell_type": "markdown",
   "metadata": {},
   "source": [
    "### Use Parser To Add Elements To A DataFrame For Sanity Check"
   ]
  },
  {
   "cell_type": "code",
   "execution_count": 19,
   "metadata": {
    "collapsed": false
   },
   "outputs": [
    {
     "data": {
      "text/html": [
       "<div>\n",
       "<table border=\"1\" class=\"dataframe\">\n",
       "  <thead>\n",
       "    <tr style=\"text-align: right;\">\n",
       "      <th></th>\n",
       "      <th>Name</th>\n",
       "      <th>Rating</th>\n",
       "      <th>Decaf</th>\n",
       "      <th>Organic</th>\n",
       "      <th>Fair_trade</th>\n",
       "      <th>Adjective</th>\n",
       "      <th>Country</th>\n",
       "    </tr>\n",
       "    <tr>\n",
       "      <th>ID</th>\n",
       "      <th></th>\n",
       "      <th></th>\n",
       "      <th></th>\n",
       "      <th></th>\n",
       "      <th></th>\n",
       "      <th></th>\n",
       "      <th></th>\n",
       "    </tr>\n",
       "  </thead>\n",
       "  <tbody>\n",
       "    <tr>\n",
       "      <th>191</th>\n",
       "      <td>Decaf Cuzcachapa Kenyan</td>\n",
       "      <td>4</td>\n",
       "      <td>True</td>\n",
       "      <td>False</td>\n",
       "      <td>False</td>\n",
       "      <td>cuzcachapa</td>\n",
       "      <td>Kenya</td>\n",
       "    </tr>\n",
       "    <tr>\n",
       "      <th>16</th>\n",
       "      <td>Organic Fair Trade Decaf Paradise Valley Kenyan</td>\n",
       "      <td>3</td>\n",
       "      <td>True</td>\n",
       "      <td>True</td>\n",
       "      <td>True</td>\n",
       "      <td>paradise valley</td>\n",
       "      <td>Kenya</td>\n",
       "    </tr>\n",
       "    <tr>\n",
       "      <th>163</th>\n",
       "      <td>Fair Trade Decaf Honey Burst Brazilian</td>\n",
       "      <td>3</td>\n",
       "      <td>True</td>\n",
       "      <td>False</td>\n",
       "      <td>True</td>\n",
       "      <td>honey burst</td>\n",
       "      <td>Brazil</td>\n",
       "    </tr>\n",
       "    <tr>\n",
       "      <th>118</th>\n",
       "      <td>Organic Fair Trade Decaf Supremo Indian</td>\n",
       "      <td>5</td>\n",
       "      <td>True</td>\n",
       "      <td>True</td>\n",
       "      <td>True</td>\n",
       "      <td>supremo</td>\n",
       "      <td>India</td>\n",
       "    </tr>\n",
       "    <tr>\n",
       "      <th>149</th>\n",
       "      <td>Decaf Swiss Water Guatemalan</td>\n",
       "      <td>3</td>\n",
       "      <td>True</td>\n",
       "      <td>False</td>\n",
       "      <td>False</td>\n",
       "      <td>swiss water</td>\n",
       "      <td>Guatemala</td>\n",
       "    </tr>\n",
       "  </tbody>\n",
       "</table>\n",
       "</div>"
      ],
      "text/plain": [
       "                                                Name  Rating Decaf Organic  \\\n",
       "ID                                                                           \n",
       "191                          Decaf Cuzcachapa Kenyan       4  True   False   \n",
       "16   Organic Fair Trade Decaf Paradise Valley Kenyan       3  True    True   \n",
       "163           Fair Trade Decaf Honey Burst Brazilian       3  True   False   \n",
       "118          Organic Fair Trade Decaf Supremo Indian       5  True    True   \n",
       "149                     Decaf Swiss Water Guatemalan       3  True   False   \n",
       "\n",
       "    Fair_trade        Adjective    Country  \n",
       "ID                                          \n",
       "191      False       cuzcachapa      Kenya  \n",
       "16        True  paradise valley      Kenya  \n",
       "163       True      honey burst     Brazil  \n",
       "118       True          supremo      India  \n",
       "149      False      swiss water  Guatemala  "
      ]
     },
     "execution_count": 19,
     "metadata": {},
     "output_type": "execute_result"
    }
   ],
   "source": [
    "dftemp = df.copy()\n",
    "dftemp[['Decaf', 'Organic', 'Fair_trade', 'Adjective', 'Country']] = dftemp.Name.apply(parse).apply(pd.Series)\n",
    "dftemp.head()"
   ]
  },
  {
   "cell_type": "markdown",
   "metadata": {},
   "source": [
    "### Summary of Data"
   ]
  },
  {
   "cell_type": "code",
   "execution_count": 20,
   "metadata": {
    "collapsed": false
   },
   "outputs": [
    {
     "name": "stdout",
     "output_type": "stream",
     "text": [
      "Total People: 20000\n",
      "Total Coffee Types: 189\n",
      "\n",
      "Summary of Decaf \n",
      "---------------------\n",
      "True   10716\n",
      "False   9284\n",
      "Total People: 20000\n",
      "Total Coffee Types: 189\n",
      "\n",
      "Summary of Organic \n",
      "---------------------\n",
      "True   10556\n",
      "False   9444\n",
      "Total People: 20000\n",
      "Total Coffee Types: 189\n",
      "\n",
      "Summary of Fair_trade \n",
      "---------------------\n",
      "False   11794\n",
      "True   8206\n",
      "Total People: 20000\n",
      "Total Coffee Types: 189\n",
      "\n",
      "Summary of Adjective \n",
      "---------------------\n",
      "supremo   1881\n",
      "paradise valley   1877\n",
      "swiss water   1873\n",
      "honey burst   1737\n",
      "peaberry   1718\n",
      "caturra   1617\n",
      "sidamo   1595\n",
      "cuzcachapa   1558\n",
      "aa   1486\n",
      "black satin   1342\n",
      "reserve   1226\n",
      "longberry   1180\n",
      "mandheling   909\n",
      "daysiss water   1\n",
      "Total People: 20000\n",
      "Total Coffee Types: 189\n",
      "\n",
      "Summary of Country \n",
      "---------------------\n",
      "India   1774\n",
      "Bolivia   1613\n",
      "Brazil   1612\n",
      "El Salvador   1597\n",
      "Bali   1592\n",
      "Panama   1574\n",
      "Peru   1475\n",
      "Sumatra   1475\n",
      "Dominican Republic   1337\n",
      "Kenya   1235\n",
      "Guatemala   1235\n",
      "Mali   1163\n",
      "Costa Rican   1030\n",
      "Ethiopia   888\n",
      "Mexico   400\n"
     ]
    }
   ],
   "source": [
    "def summary(df):\n",
    "    \"\"\"This function takes a dataframe, not a file\"\"\"\n",
    "    for x in [col for col in df.columns if col not in ['Name', 'Rating']]:\n",
    "        print 'Total People: %s' % len(df)\n",
    "        print 'Total Coffee Types: %s' % len(df.Name.unique())\n",
    "        print '\\nSummary of %s \\n---------------------' % x\n",
    "        #Get the counts\n",
    "        srs = df[x].value_counts()\n",
    "        #Print out the counts\n",
    "        for n,v in zip(srs.index, srs):\n",
    "            print n, ' ', v\n",
    "\n",
    "summary(dftemp)"
   ]
  },
  {
   "cell_type": "markdown",
   "metadata": {},
   "source": [
    "## Build Features For Rec Engine - Collaborative Filtering"
   ]
  },
  {
   "cell_type": "markdown",
   "metadata": {},
   "source": [
    "I thought about using the features that we created in the last exercise, but as a first pass I want to see how a colloborative filtering approach will do rather than an item-based method, especially because we only extracted very simple features for each coffee and people can have very complex taste profiles.  So I'm going to do a purely colloborative filtering approach here."
   ]
  },
  {
   "cell_type": "code",
   "execution_count": 21,
   "metadata": {
    "collapsed": false
   },
   "outputs": [],
   "source": [
    "scores = pd.pivot_table(data = df.reset_index(), values=[\"Rating\"], \n",
    "               columns = ['ID'], index = ['Name'], aggfunc='mean').fillna(0)\n",
    "scores.columns = scores.columns.droplevel()\n",
    "#scores.reset_index(inplace=True)"
   ]
  },
  {
   "cell_type": "code",
   "execution_count": 22,
   "metadata": {
    "collapsed": false
   },
   "outputs": [
    {
     "data": {
      "text/html": [
       "<div>\n",
       "<table border=\"1\" class=\"dataframe\">\n",
       "  <thead>\n",
       "    <tr style=\"text-align: right;\">\n",
       "      <th>ID</th>\n",
       "      <th>0</th>\n",
       "      <th>1</th>\n",
       "      <th>2</th>\n",
       "      <th>3</th>\n",
       "      <th>4</th>\n",
       "      <th>5</th>\n",
       "      <th>6</th>\n",
       "      <th>7</th>\n",
       "      <th>8</th>\n",
       "      <th>9</th>\n",
       "      <th>...</th>\n",
       "      <th>190</th>\n",
       "      <th>191</th>\n",
       "      <th>192</th>\n",
       "      <th>193</th>\n",
       "      <th>194</th>\n",
       "      <th>195</th>\n",
       "      <th>196</th>\n",
       "      <th>197</th>\n",
       "      <th>198</th>\n",
       "      <th>199</th>\n",
       "    </tr>\n",
       "    <tr>\n",
       "      <th>Name</th>\n",
       "      <th></th>\n",
       "      <th></th>\n",
       "      <th></th>\n",
       "      <th></th>\n",
       "      <th></th>\n",
       "      <th></th>\n",
       "      <th></th>\n",
       "      <th></th>\n",
       "      <th></th>\n",
       "      <th></th>\n",
       "      <th></th>\n",
       "      <th></th>\n",
       "      <th></th>\n",
       "      <th></th>\n",
       "      <th></th>\n",
       "      <th></th>\n",
       "      <th></th>\n",
       "      <th></th>\n",
       "      <th></th>\n",
       "      <th></th>\n",
       "      <th></th>\n",
       "    </tr>\n",
       "  </thead>\n",
       "  <tbody>\n",
       "    <tr>\n",
       "      <th>AA Ethiopian</th>\n",
       "      <td>2</td>\n",
       "      <td>1</td>\n",
       "      <td>0</td>\n",
       "      <td>1</td>\n",
       "      <td>1</td>\n",
       "      <td>0</td>\n",
       "      <td>1</td>\n",
       "      <td>1</td>\n",
       "      <td>1</td>\n",
       "      <td>0</td>\n",
       "      <td>...</td>\n",
       "      <td>0</td>\n",
       "      <td>4</td>\n",
       "      <td>0</td>\n",
       "      <td>4</td>\n",
       "      <td>0</td>\n",
       "      <td>0</td>\n",
       "      <td>2</td>\n",
       "      <td>2</td>\n",
       "      <td>0</td>\n",
       "      <td>1</td>\n",
       "    </tr>\n",
       "    <tr>\n",
       "      <th>Black Satin Indian</th>\n",
       "      <td>0</td>\n",
       "      <td>0</td>\n",
       "      <td>1</td>\n",
       "      <td>0</td>\n",
       "      <td>0</td>\n",
       "      <td>0</td>\n",
       "      <td>0</td>\n",
       "      <td>1</td>\n",
       "      <td>0</td>\n",
       "      <td>0</td>\n",
       "      <td>...</td>\n",
       "      <td>0</td>\n",
       "      <td>4</td>\n",
       "      <td>0</td>\n",
       "      <td>4</td>\n",
       "      <td>0</td>\n",
       "      <td>1</td>\n",
       "      <td>2</td>\n",
       "      <td>0</td>\n",
       "      <td>0</td>\n",
       "      <td>1</td>\n",
       "    </tr>\n",
       "    <tr>\n",
       "      <th>Caturra Guatemalan</th>\n",
       "      <td>0</td>\n",
       "      <td>0</td>\n",
       "      <td>0</td>\n",
       "      <td>0</td>\n",
       "      <td>0</td>\n",
       "      <td>0</td>\n",
       "      <td>0</td>\n",
       "      <td>0</td>\n",
       "      <td>0</td>\n",
       "      <td>0</td>\n",
       "      <td>...</td>\n",
       "      <td>0</td>\n",
       "      <td>4</td>\n",
       "      <td>0</td>\n",
       "      <td>0</td>\n",
       "      <td>0</td>\n",
       "      <td>0</td>\n",
       "      <td>0</td>\n",
       "      <td>2</td>\n",
       "      <td>0</td>\n",
       "      <td>0</td>\n",
       "    </tr>\n",
       "    <tr>\n",
       "      <th>Cuzcachapa Balinese</th>\n",
       "      <td>0</td>\n",
       "      <td>0</td>\n",
       "      <td>1</td>\n",
       "      <td>0</td>\n",
       "      <td>0</td>\n",
       "      <td>1</td>\n",
       "      <td>1</td>\n",
       "      <td>0</td>\n",
       "      <td>0</td>\n",
       "      <td>1</td>\n",
       "      <td>...</td>\n",
       "      <td>0</td>\n",
       "      <td>0</td>\n",
       "      <td>0</td>\n",
       "      <td>0</td>\n",
       "      <td>0</td>\n",
       "      <td>1</td>\n",
       "      <td>2</td>\n",
       "      <td>2</td>\n",
       "      <td>1</td>\n",
       "      <td>0</td>\n",
       "    </tr>\n",
       "    <tr>\n",
       "      <th>Cuzcachapa Costa Rican</th>\n",
       "      <td>2</td>\n",
       "      <td>1</td>\n",
       "      <td>0</td>\n",
       "      <td>1</td>\n",
       "      <td>0</td>\n",
       "      <td>0</td>\n",
       "      <td>0</td>\n",
       "      <td>1</td>\n",
       "      <td>1</td>\n",
       "      <td>0</td>\n",
       "      <td>...</td>\n",
       "      <td>0</td>\n",
       "      <td>0</td>\n",
       "      <td>2</td>\n",
       "      <td>4</td>\n",
       "      <td>0</td>\n",
       "      <td>0</td>\n",
       "      <td>2</td>\n",
       "      <td>2</td>\n",
       "      <td>0</td>\n",
       "      <td>0</td>\n",
       "    </tr>\n",
       "  </tbody>\n",
       "</table>\n",
       "<p>5 rows × 200 columns</p>\n",
       "</div>"
      ],
      "text/plain": [
       "ID                      0    1    2    3    4    5    6    7    8    9   ...   \\\n",
       "Name                                                                     ...    \n",
       "AA Ethiopian              2    1    0    1    1    0    1    1    1    0 ...    \n",
       "Black Satin Indian        0    0    1    0    0    0    0    1    0    0 ...    \n",
       "Caturra Guatemalan        0    0    0    0    0    0    0    0    0    0 ...    \n",
       "Cuzcachapa Balinese       0    0    1    0    0    1    1    0    0    1 ...    \n",
       "Cuzcachapa Costa Rican    2    1    0    1    0    0    0    1    1    0 ...    \n",
       "\n",
       "ID                      190  191  192  193  194  195  196  197  198  199  \n",
       "Name                                                                      \n",
       "AA Ethiopian              0    4    0    4    0    0    2    2    0    1  \n",
       "Black Satin Indian        0    4    0    4    0    1    2    0    0    1  \n",
       "Caturra Guatemalan        0    4    0    0    0    0    0    2    0    0  \n",
       "Cuzcachapa Balinese       0    0    0    0    0    1    2    2    1    0  \n",
       "Cuzcachapa Costa Rican    0    0    2    4    0    0    2    2    0    0  \n",
       "\n",
       "[5 rows x 200 columns]"
      ]
     },
     "execution_count": 22,
     "metadata": {},
     "output_type": "execute_result"
    }
   ],
   "source": [
    "#scores[['Decaf', 'Organic', 'Fair_trade', 'Adjective', 'Country']] = scores['Name'].apply(parse).apply(pd.Series)\n",
    "scores.head()"
   ]
  },
  {
   "cell_type": "markdown",
   "metadata": {},
   "source": [
    "### Calculate & Build Pairwise Distance Matrix"
   ]
  },
  {
   "cell_type": "code",
   "execution_count": 23,
   "metadata": {
    "collapsed": false
   },
   "outputs": [],
   "source": [
    "dists = cosine_similarity(scores)\n",
    "dists = pd.DataFrame(dists, columns=scores.index)\n",
    "dists.index = dists.columns"
   ]
  },
  {
   "cell_type": "code",
   "execution_count": 24,
   "metadata": {
    "collapsed": false
   },
   "outputs": [
    {
     "data": {
      "text/html": [
       "<div>\n",
       "<table border=\"1\" class=\"dataframe\">\n",
       "  <thead>\n",
       "    <tr style=\"text-align: right;\">\n",
       "      <th>Name</th>\n",
       "      <th>AA Ethiopian</th>\n",
       "      <th>Black Satin Indian</th>\n",
       "      <th>Caturra Guatemalan</th>\n",
       "      <th>Cuzcachapa Balinese</th>\n",
       "      <th>Cuzcachapa Costa Rican</th>\n",
       "      <th>Cuzcachapa Sumatran</th>\n",
       "      <th>Decaf AA Ethiopian</th>\n",
       "      <th>Decaf AA Guatemalan</th>\n",
       "      <th>Decaf Black Satin Balinese</th>\n",
       "      <th>Decaf Black Satin Bolivian</th>\n",
       "      <th>...</th>\n",
       "      <th>Peaberry Indian</th>\n",
       "      <th>Peaberry Salvadorean</th>\n",
       "      <th>Reserve Balinese</th>\n",
       "      <th>Reserve Salvadorean</th>\n",
       "      <th>Sidamo Panamanian</th>\n",
       "      <th>Supremo Brazilian</th>\n",
       "      <th>Supremo Kenyan</th>\n",
       "      <th>Supremo Salvadorean</th>\n",
       "      <th>Swiss Water Dominican</th>\n",
       "      <th>daysiss Water Salvadorean</th>\n",
       "    </tr>\n",
       "    <tr>\n",
       "      <th>Name</th>\n",
       "      <th></th>\n",
       "      <th></th>\n",
       "      <th></th>\n",
       "      <th></th>\n",
       "      <th></th>\n",
       "      <th></th>\n",
       "      <th></th>\n",
       "      <th></th>\n",
       "      <th></th>\n",
       "      <th></th>\n",
       "      <th></th>\n",
       "      <th></th>\n",
       "      <th></th>\n",
       "      <th></th>\n",
       "      <th></th>\n",
       "      <th></th>\n",
       "      <th></th>\n",
       "      <th></th>\n",
       "      <th></th>\n",
       "      <th></th>\n",
       "      <th></th>\n",
       "    </tr>\n",
       "  </thead>\n",
       "  <tbody>\n",
       "    <tr>\n",
       "      <th>AA Ethiopian</th>\n",
       "      <td>1.000000</td>\n",
       "      <td>0.421860</td>\n",
       "      <td>0.323830</td>\n",
       "      <td>0.270808</td>\n",
       "      <td>0.462563</td>\n",
       "      <td>0.366947</td>\n",
       "      <td>0.358424</td>\n",
       "      <td>0.422221</td>\n",
       "      <td>0.300824</td>\n",
       "      <td>0.394914</td>\n",
       "      <td>...</td>\n",
       "      <td>0.396393</td>\n",
       "      <td>0.381742</td>\n",
       "      <td>0.281906</td>\n",
       "      <td>0.406597</td>\n",
       "      <td>0.358838</td>\n",
       "      <td>0.316956</td>\n",
       "      <td>0.405759</td>\n",
       "      <td>0.383367</td>\n",
       "      <td>0.300438</td>\n",
       "      <td>0.000000</td>\n",
       "    </tr>\n",
       "    <tr>\n",
       "      <th>Black Satin Indian</th>\n",
       "      <td>0.421860</td>\n",
       "      <td>1.000000</td>\n",
       "      <td>0.373754</td>\n",
       "      <td>0.372577</td>\n",
       "      <td>0.403450</td>\n",
       "      <td>0.476225</td>\n",
       "      <td>0.314837</td>\n",
       "      <td>0.432908</td>\n",
       "      <td>0.218132</td>\n",
       "      <td>0.314309</td>\n",
       "      <td>...</td>\n",
       "      <td>0.465158</td>\n",
       "      <td>0.424165</td>\n",
       "      <td>0.460635</td>\n",
       "      <td>0.460391</td>\n",
       "      <td>0.505981</td>\n",
       "      <td>0.437504</td>\n",
       "      <td>0.517713</td>\n",
       "      <td>0.445092</td>\n",
       "      <td>0.452405</td>\n",
       "      <td>0.000000</td>\n",
       "    </tr>\n",
       "    <tr>\n",
       "      <th>Caturra Guatemalan</th>\n",
       "      <td>0.323830</td>\n",
       "      <td>0.373754</td>\n",
       "      <td>1.000000</td>\n",
       "      <td>0.283851</td>\n",
       "      <td>0.395258</td>\n",
       "      <td>0.264893</td>\n",
       "      <td>0.338270</td>\n",
       "      <td>0.479878</td>\n",
       "      <td>0.286577</td>\n",
       "      <td>0.277230</td>\n",
       "      <td>...</td>\n",
       "      <td>0.393488</td>\n",
       "      <td>0.246502</td>\n",
       "      <td>0.374747</td>\n",
       "      <td>0.374528</td>\n",
       "      <td>0.345906</td>\n",
       "      <td>0.435384</td>\n",
       "      <td>0.413619</td>\n",
       "      <td>0.286201</td>\n",
       "      <td>0.424627</td>\n",
       "      <td>0.065653</td>\n",
       "    </tr>\n",
       "    <tr>\n",
       "      <th>Cuzcachapa Balinese</th>\n",
       "      <td>0.270808</td>\n",
       "      <td>0.372577</td>\n",
       "      <td>0.283851</td>\n",
       "      <td>1.000000</td>\n",
       "      <td>0.203554</td>\n",
       "      <td>0.432824</td>\n",
       "      <td>0.419807</td>\n",
       "      <td>0.418791</td>\n",
       "      <td>0.320408</td>\n",
       "      <td>0.378721</td>\n",
       "      <td>...</td>\n",
       "      <td>0.445391</td>\n",
       "      <td>0.388350</td>\n",
       "      <td>0.423934</td>\n",
       "      <td>0.293018</td>\n",
       "      <td>0.487053</td>\n",
       "      <td>0.550915</td>\n",
       "      <td>0.449466</td>\n",
       "      <td>0.254604</td>\n",
       "      <td>0.334487</td>\n",
       "      <td>0.000000</td>\n",
       "    </tr>\n",
       "    <tr>\n",
       "      <th>Cuzcachapa Costa Rican</th>\n",
       "      <td>0.462563</td>\n",
       "      <td>0.403450</td>\n",
       "      <td>0.395258</td>\n",
       "      <td>0.203554</td>\n",
       "      <td>1.000000</td>\n",
       "      <td>0.360105</td>\n",
       "      <td>0.371930</td>\n",
       "      <td>0.452338</td>\n",
       "      <td>0.247916</td>\n",
       "      <td>0.296006</td>\n",
       "      <td>...</td>\n",
       "      <td>0.401738</td>\n",
       "      <td>0.378030</td>\n",
       "      <td>0.405239</td>\n",
       "      <td>0.585091</td>\n",
       "      <td>0.342881</td>\n",
       "      <td>0.349745</td>\n",
       "      <td>0.349020</td>\n",
       "      <td>0.409350</td>\n",
       "      <td>0.440203</td>\n",
       "      <td>0.056796</td>\n",
       "    </tr>\n",
       "  </tbody>\n",
       "</table>\n",
       "<p>5 rows × 189 columns</p>\n",
       "</div>"
      ],
      "text/plain": [
       "Name                    AA Ethiopian  Black Satin Indian  Caturra Guatemalan  \\\n",
       "Name                                                                           \n",
       "AA Ethiopian                1.000000            0.421860            0.323830   \n",
       "Black Satin Indian          0.421860            1.000000            0.373754   \n",
       "Caturra Guatemalan          0.323830            0.373754            1.000000   \n",
       "Cuzcachapa Balinese         0.270808            0.372577            0.283851   \n",
       "Cuzcachapa Costa Rican      0.462563            0.403450            0.395258   \n",
       "\n",
       "Name                    Cuzcachapa Balinese  Cuzcachapa Costa Rican  \\\n",
       "Name                                                                  \n",
       "AA Ethiopian                       0.270808                0.462563   \n",
       "Black Satin Indian                 0.372577                0.403450   \n",
       "Caturra Guatemalan                 0.283851                0.395258   \n",
       "Cuzcachapa Balinese                1.000000                0.203554   \n",
       "Cuzcachapa Costa Rican             0.203554                1.000000   \n",
       "\n",
       "Name                    Cuzcachapa Sumatran  Decaf AA Ethiopian  \\\n",
       "Name                                                              \n",
       "AA Ethiopian                       0.366947            0.358424   \n",
       "Black Satin Indian                 0.476225            0.314837   \n",
       "Caturra Guatemalan                 0.264893            0.338270   \n",
       "Cuzcachapa Balinese                0.432824            0.419807   \n",
       "Cuzcachapa Costa Rican             0.360105            0.371930   \n",
       "\n",
       "Name                    Decaf AA Guatemalan  Decaf Black Satin Balinese  \\\n",
       "Name                                                                      \n",
       "AA Ethiopian                       0.422221                    0.300824   \n",
       "Black Satin Indian                 0.432908                    0.218132   \n",
       "Caturra Guatemalan                 0.479878                    0.286577   \n",
       "Cuzcachapa Balinese                0.418791                    0.320408   \n",
       "Cuzcachapa Costa Rican             0.452338                    0.247916   \n",
       "\n",
       "Name                    Decaf Black Satin Bolivian            ...              \\\n",
       "Name                                                          ...               \n",
       "AA Ethiopian                              0.394914            ...               \n",
       "Black Satin Indian                        0.314309            ...               \n",
       "Caturra Guatemalan                        0.277230            ...               \n",
       "Cuzcachapa Balinese                       0.378721            ...               \n",
       "Cuzcachapa Costa Rican                    0.296006            ...               \n",
       "\n",
       "Name                    Peaberry Indian  Peaberry Salvadorean  \\\n",
       "Name                                                            \n",
       "AA Ethiopian                   0.396393              0.381742   \n",
       "Black Satin Indian             0.465158              0.424165   \n",
       "Caturra Guatemalan             0.393488              0.246502   \n",
       "Cuzcachapa Balinese            0.445391              0.388350   \n",
       "Cuzcachapa Costa Rican         0.401738              0.378030   \n",
       "\n",
       "Name                    Reserve Balinese  Reserve Salvadorean  \\\n",
       "Name                                                            \n",
       "AA Ethiopian                    0.281906             0.406597   \n",
       "Black Satin Indian              0.460635             0.460391   \n",
       "Caturra Guatemalan              0.374747             0.374528   \n",
       "Cuzcachapa Balinese             0.423934             0.293018   \n",
       "Cuzcachapa Costa Rican          0.405239             0.585091   \n",
       "\n",
       "Name                    Sidamo Panamanian  Supremo Brazilian  Supremo Kenyan  \\\n",
       "Name                                                                           \n",
       "AA Ethiopian                     0.358838           0.316956        0.405759   \n",
       "Black Satin Indian               0.505981           0.437504        0.517713   \n",
       "Caturra Guatemalan               0.345906           0.435384        0.413619   \n",
       "Cuzcachapa Balinese              0.487053           0.550915        0.449466   \n",
       "Cuzcachapa Costa Rican           0.342881           0.349745        0.349020   \n",
       "\n",
       "Name                    Supremo Salvadorean  Swiss Water Dominican  \\\n",
       "Name                                                                 \n",
       "AA Ethiopian                       0.383367               0.300438   \n",
       "Black Satin Indian                 0.445092               0.452405   \n",
       "Caturra Guatemalan                 0.286201               0.424627   \n",
       "Cuzcachapa Balinese                0.254604               0.334487   \n",
       "Cuzcachapa Costa Rican             0.409350               0.440203   \n",
       "\n",
       "Name                    daysiss Water Salvadorean  \n",
       "Name                                               \n",
       "AA Ethiopian                             0.000000  \n",
       "Black Satin Indian                       0.000000  \n",
       "Caturra Guatemalan                       0.065653  \n",
       "Cuzcachapa Balinese                      0.000000  \n",
       "Cuzcachapa Costa Rican                   0.056796  \n",
       "\n",
       "[5 rows x 189 columns]"
      ]
     },
     "execution_count": 24,
     "metadata": {},
     "output_type": "execute_result"
    }
   ],
   "source": [
    "dists.head()"
   ]
  },
  {
   "cell_type": "markdown",
   "metadata": {},
   "source": [
    "## Build simple rec engine function"
   ]
  },
  {
   "cell_type": "code",
   "execution_count": 25,
   "metadata": {
    "collapsed": true
   },
   "outputs": [],
   "source": [
    "def get_similar(coffee, n=None):\n",
    "    \"\"\"\n",
    "    calculates which kinds of coffee are most similar to the ones provided. \n",
    "    \n",
    "    Parameters\n",
    "    ----------\n",
    "    coffee: list\n",
    "        some beers!\n",
    "    \n",
    "    Returns\n",
    "    -------\n",
    "    ranked_coffee: list\n",
    "        rank ordered coffee\n",
    "    \"\"\"\n",
    "    #collect the column names (the list of coffees)\n",
    "    cof = [c for c in coffee if c in dists.columns]\n",
    "    #sum the distances over the cofees that we selected (columns in the matrix)\n",
    "    cof_summed = dists[cof].apply(lambda row: np.sum(row), axis=1)\n",
    "    #Cosine distance we want to sort in descending order because 1 means perfectly similar\n",
    "    cof_summed = cof_summed.sort_values(ascending=False)\n",
    "    #Get rid of the coffees that == the ones that we queried for\n",
    "    ranked_cof = cof_summed.index[cof_summed.index.isin(cof)==False]\n",
    "    #Transform into a list\n",
    "    ranked_cof = ranked_cof.tolist()\n",
    "    if n is None:\n",
    "        return ranked_cof\n",
    "    else:\n",
    "        return ranked_cof[:n]"
   ]
  },
  {
   "cell_type": "markdown",
   "metadata": {},
   "source": [
    "## Make Reccomendations"
   ]
  },
  {
   "cell_type": "markdown",
   "metadata": {},
   "source": [
    "Recommendations if you like Black Satin Indain"
   ]
  },
  {
   "cell_type": "code",
   "execution_count": 26,
   "metadata": {
    "collapsed": false
   },
   "outputs": [
    {
     "data": {
      "text/plain": [
       "['Organic Longberry Bolivian',\n",
       " 'Supremo Kenyan',\n",
       " 'Organic Caturra Indian',\n",
       " 'Organic Supremo Peruvian',\n",
       " 'Sidamo Panamanian']"
      ]
     },
     "execution_count": 26,
     "metadata": {},
     "output_type": "execute_result"
    }
   ],
   "source": [
    "get_similar(['Black Satin Indian'], 5)"
   ]
  },
  {
   "cell_type": "markdown",
   "metadata": {},
   "source": [
    "Recommendations if you like Decaf AA Guatemalan"
   ]
  },
  {
   "cell_type": "code",
   "execution_count": 27,
   "metadata": {
    "collapsed": false
   },
   "outputs": [
    {
     "data": {
      "text/plain": [
       "['AA Ethiopian',\n",
       " 'Black Satin Indian',\n",
       " 'Caturra Guatemalan',\n",
       " 'Cuzcachapa Balinese',\n",
       " 'Cuzcachapa Costa Rican',\n",
       " 'Cuzcachapa Sumatran',\n",
       " 'Decaf AA Ethiopian',\n",
       " 'Decaf AA Guatemalan',\n",
       " 'Decaf Black Satin Balinese',\n",
       " 'Decaf Black Satin Bolivian']"
      ]
     },
     "execution_count": 27,
     "metadata": {},
     "output_type": "execute_result"
    }
   ],
   "source": [
    "get_similar('Decaf AA Guatemalan', 10)"
   ]
  },
  {
   "cell_type": "markdown",
   "metadata": {},
   "source": [
    "Recommendations if you like Cuzcachapa Costa Rican"
   ]
  },
  {
   "cell_type": "code",
   "execution_count": 28,
   "metadata": {
    "collapsed": false
   },
   "outputs": [
    {
     "data": {
      "text/plain": [
       "['AA Ethiopian',\n",
       " 'Black Satin Indian',\n",
       " 'Caturra Guatemalan',\n",
       " 'Cuzcachapa Balinese',\n",
       " 'Cuzcachapa Costa Rican']"
      ]
     },
     "execution_count": 28,
     "metadata": {},
     "output_type": "execute_result"
    }
   ],
   "source": [
    "get_similar('Cuzcachapa Costa Rican', 5)"
   ]
  },
  {
   "cell_type": "code",
   "execution_count": null,
   "metadata": {
    "collapsed": true
   },
   "outputs": [],
   "source": []
  }
 ],
 "metadata": {
  "kernelspec": {
   "display_name": "Python 2",
   "language": "python",
   "name": "python2"
  },
  "language_info": {
   "codemirror_mode": {
    "name": "ipython",
    "version": 2
   },
   "file_extension": ".py",
   "mimetype": "text/x-python",
   "name": "python",
   "nbconvert_exporter": "python",
   "pygments_lexer": "ipython2",
   "version": "2.7.11"
  }
 },
 "nbformat": 4,
 "nbformat_minor": 0
}
